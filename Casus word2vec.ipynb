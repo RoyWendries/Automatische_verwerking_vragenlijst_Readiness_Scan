{
 "cells": [
  {
   "cell_type": "code",
   "execution_count": 13,
   "id": "8533ddb9",
   "metadata": {},
   "outputs": [],
   "source": [
    "import pandas as pd\n",
    "import gensim\n",
    "from gensim.models import Word2Vec\n",
    "import nltk\n",
    "from nltk.corpus import stopwords\n",
    "#nltk.download('stopwords')\n",
    "from nltk.tokenize import sent_tokenize, word_tokenize"
   ]
  },
  {
   "cell_type": "code",
   "execution_count": 39,
   "id": "ee6de143",
   "metadata": {},
   "outputs": [
    {
     "ename": "AttributeError",
     "evalue": "'str' object has no attribute 'dtypes'",
     "output_type": "error",
     "traceback": [
      "\u001b[1;31m---------------------------------------------------------------------------\u001b[0m",
      "\u001b[1;31mAttributeError\u001b[0m                            Traceback (most recent call last)",
      "\u001b[1;32m<ipython-input-39-c15dba23d5ed>\u001b[0m in \u001b[0;36m<module>\u001b[1;34m\u001b[0m\n\u001b[0;32m      5\u001b[0m \u001b[1;33m\u001b[0m\u001b[0m\n\u001b[0;32m      6\u001b[0m \u001b[0mtest\u001b[0m\u001b[1;33m=\u001b[0m\u001b[0mstr\u001b[0m\u001b[1;33m(\u001b[0m\u001b[0mdf\u001b[0m\u001b[1;33m)\u001b[0m\u001b[1;33m\u001b[0m\u001b[1;33m\u001b[0m\u001b[0m\n\u001b[1;32m----> 7\u001b[1;33m \u001b[0mprint\u001b[0m\u001b[1;33m(\u001b[0m\u001b[0mtest\u001b[0m\u001b[1;33m.\u001b[0m\u001b[0mdtypes\u001b[0m\u001b[1;33m)\u001b[0m\u001b[1;33m\u001b[0m\u001b[1;33m\u001b[0m\u001b[0m\n\u001b[0m\u001b[0;32m      8\u001b[0m \u001b[1;33m\u001b[0m\u001b[0m\n\u001b[0;32m      9\u001b[0m \u001b[1;33m\u001b[0m\u001b[0m\n",
      "\u001b[1;31mAttributeError\u001b[0m: 'str' object has no attribute 'dtypes'"
     ]
    }
   ],
   "source": [
    "\n",
    "#https://griddb.net/en/blog/movie-review-classification-using-nlp-griddb-and-python/\n",
    "\n",
    "df = pd.read_json(\"C:\\\\Users\\\\shirl\\\\Desktop\\\\MovieReactionDS_small.json\")\n",
    "\n",
    "\n",
    "#CONTROLEREN OP NULL WAARDES\n",
    "df.isna().sum()\n",
    "\n",
    "#LEESTEKENS \n",
    "df[\"Gecleand\"] = df['input'].str.replace('[^\\w\\s]','')\n",
    "\n",
    "\n",
    "\n",
    "#print(df)\n",
    "\n",
    "#De kolom `Gecleand` alles in kleine letters zetten\n",
    "df['Gecleand'] = df['Gecleand'].str.lower()\n",
    "#print(df)\n",
    "\n",
    "#stopwoorden eruit halen\n",
    "stop = stopwords.words('english')\n",
    "df['Gecleand'] = df['Gecleand'].apply(lambda x: ' '.join([word for word in x.split() if word not in (stop)]))\n",
    "print(df)\n",
    "\n",
    "#Positive eruit halen\n",
    "positive = df[df['output']== 'positive']\n",
    "print(positive)\n",
    "\n"
   ]
  },
  {
   "cell_type": "code",
   "execution_count": 49,
   "id": "2a4bed03",
   "metadata": {},
   "outputs": [
    {
     "name": "stdout",
     "output_type": "stream",
     "text": [
      "Vector for love:\n",
      "[-3.1397753e-06  3.2113108e-03 -6.8862825e-03 -1.3559908e-03\n",
      "  7.8034778e-03  7.3811766e-03 -3.6739311e-03  2.8009480e-03\n",
      " -8.4368540e-03  6.2113903e-03 -4.6087182e-03 -3.2072042e-03\n",
      "  9.4428789e-03  8.9015363e-04  7.6571158e-03 -6.1776070e-03\n",
      "  5.3407052e-03  1.0066615e-02 -8.7004807e-03 -5.2132783e-03\n",
      " -7.1224445e-03 -4.9514254e-03 -3.6996922e-03 -8.6144153e-03\n",
      "  8.0513619e-03 -4.9080662e-03  8.5854866e-03  5.4172929e-03\n",
      " -6.6832770e-03  4.0266425e-03  5.5614104e-03 -7.5906548e-03\n",
      " -7.5342944e-03 -2.5900409e-03 -8.7243160e-03 -1.5407711e-03\n",
      " -2.7954052e-04  3.2986752e-03  1.4208433e-03 -8.1373897e-04\n",
      " -5.6735794e-03  1.7942084e-03 -9.3963521e-04  6.8621309e-03\n",
      "  4.0873382e-03  4.6395124e-03  1.4628475e-03 -2.7180784e-03\n",
      " -4.4284915e-03 -1.0227294e-03  1.4809788e-03 -2.6931360e-03\n",
      " -7.2710826e-03 -7.9896785e-03 -9.2782909e-03 -6.0295523e-03\n",
      " -1.8167365e-03 -4.3385802e-03 -6.5397234e-03 -3.7473864e-03\n",
      "  4.3305708e-03 -3.7522037e-03  8.5395966e-03  1.4962249e-03\n",
      " -7.3201000e-03  9.5642982e-03  7.7706091e-03  5.6579006e-03\n",
      " -6.9698831e-03  5.8734827e-03  4.1283313e-03  5.2546766e-03\n",
      "  4.3222778e-03  2.0272995e-03 -3.2172692e-03  8.4368596e-03\n",
      "  9.7318143e-03  3.9016188e-03 -2.9177924e-03 -3.4287677e-05\n",
      "  1.1611447e-03 -8.5251061e-03 -8.2756514e-03 -2.0425596e-04\n",
      "  1.2169407e-03 -5.8595780e-03 -4.6961526e-03 -7.4697756e-03\n",
      "  8.4291827e-03  6.4908520e-05 -4.6227998e-03  5.7778358e-03\n",
      "  9.3425876e-03 -4.2102300e-03  8.2061701e-03  5.4838741e-03\n",
      "  5.9946617e-03  4.2353614e-04  8.2992967e-03 -7.1279467e-03]\n",
      "\n"
     ]
    }
   ],
   "source": [
    "data = positive\n",
    "data =str(data)\n",
    "\n",
    "#Tokenize\n",
    "corpus = []\n",
    "for i in sent_tokenize(data):\n",
    "    temp = []\n",
    "    for j in word_tokenize(i):\n",
    "        temp.append(j)\n",
    "    corpus.append(temp)\n",
    "    \n",
    "# Creating Word2Vec\n",
    "model = Word2Vec(\n",
    "    sentences = corpus,\n",
    "    window = 10)\n",
    "\n",
    "   \n",
    "print(\"Vector for positive:\")\n",
    "print(model.wv[\"positive\"])\n",
    "print()    \n",
    "    \n",
    "\n",
    "#skip gram\n",
    "model_sg = gensim.models.Word2Vec(corpus, min_count = 1, vector_size = 100,\n",
    "                                             window = 5, sg = 1)\n",
    "\n",
    "#CBOW\n",
    "model_cbow = gensim.models.Word2Vec(corpus, min_count = 1,\n",
    "                              vector_size = 100, window = 5)"
   ]
  },
  {
   "cell_type": "code",
   "execution_count": null,
   "id": "01b9b59a",
   "metadata": {},
   "outputs": [],
   "source": [
    "#Accuracy"
   ]
  },
  {
   "cell_type": "code",
   "execution_count": null,
   "id": "2bdd296a",
   "metadata": {},
   "outputs": [],
   "source": []
  }
 ],
 "metadata": {
  "kernelspec": {
   "display_name": "Python 3",
   "language": "python",
   "name": "python3"
  },
  "language_info": {
   "codemirror_mode": {
    "name": "ipython",
    "version": 3
   },
   "file_extension": ".py",
   "mimetype": "text/x-python",
   "name": "python",
   "nbconvert_exporter": "python",
   "pygments_lexer": "ipython3",
   "version": "3.8.8"
  }
 },
 "nbformat": 4,
 "nbformat_minor": 5
}
