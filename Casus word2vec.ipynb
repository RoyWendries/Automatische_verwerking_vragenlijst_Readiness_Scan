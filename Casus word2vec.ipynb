{
 "cells": [
  {
   "cell_type": "code",
   "execution_count": 2,
   "id": "8533ddb9",
   "metadata": {},
   "outputs": [
    {
     "name": "stderr",
     "output_type": "stream",
     "text": [
      "[nltk_data] Downloading package stopwords to\n",
      "[nltk_data]     C:\\Users\\shirl\\AppData\\Roaming\\nltk_data...\n",
      "[nltk_data]   Package stopwords is already up-to-date!\n"
     ]
    },
    {
     "data": {
      "text/plain": [
       "True"
      ]
     },
     "execution_count": 2,
     "metadata": {},
     "output_type": "execute_result"
    }
   ],
   "source": [
    "import pandas as pd\n",
    "import nltk\n",
    "from nltk.corpus import stopwords\n",
    "nltk.download('stopwords')"
   ]
  },
  {
   "cell_type": "code",
   "execution_count": 5,
   "id": "ee6de143",
   "metadata": {},
   "outputs": [
    {
     "name": "stdout",
     "output_type": "stream",
     "text": [
      "                                                input    output  \\\n",
      "0   Supercraptastic slasher fare, which feels over...  negative   \n",
      "1   Even by the lowered standards of '80s slasher ...  negative   \n",
      "2   Foolish hikers go camping in the Utah mountain...  negative   \n",
      "3   Rented 3 bad movies to watch with my friends i...  negative   \n",
      "4   I was pulled into this movie early on, much to...  negative   \n",
      "5   The prey has an interesting history, unless yo...  negative   \n",
      "6   All the criticisms of this movie are quite val...  negative   \n",
      "7   I walked into a book store in Brentwood, Tenne...  negative   \n",
      "8   Thank God I didn't buy this movie myself! I bo...  negative   \n",
      "9   I saw this movie with my girlfriend. It was a ...  negative   \n",
      "10  If anyone tells you this picture is just terri...  negative   \n",
      "11  Are you kidding me? This is quite possibly the...  negative   \n",
      "12  In addition to the fact that this is just an a...  negative   \n",
      "13  I wanted to like this movie. I really, really ...  negative   \n",
      "14  I am not understanding why people are praising...  negative   \n",
      "15  This tale of the upper-classes getting their c...  negative   \n",
      "16  The filmmaker stayed true to the most accurate...  negative   \n",
      "17  I was able to see a preview of this movie thro...  positive   \n",
      "18  I saw The D's new film tonight at a special ad...  positive   \n",
      "19  I saw this movie on a fluke.I was standing on ...  positive   \n",
      "20  A wonder. My favorite film. The most important...  positive   \n",
      "21  Just saw it at as closing film of Austin Film ...  positive   \n",
      "22  I love a film that mixes edge-of-the-seat susp...  positive   \n",
      "23  There were heist movies before this one, and i...  positive   \n",
      "24  After 30+ years of hiatus, once again I immers...  positive   \n",
      "25  Meville's caper film is not as good as his mos...  positive   \n",
      "26  All men are guilty, says the chief of the poli...  positive   \n",
      "27  Jean-Pierre Melville's Le Cercle Rouge follows...  positive   \n",
      "\n",
      "                                             Gecleand  \n",
      "0   supercraptastic slasher fare feels overly long...  \n",
      "1   even lowered standards 80s slasher movies one ...  \n",
      "2   foolish hikers go camping utah mountains run m...  \n",
      "3   rented 3 bad movies watch friends dorm roomlep...  \n",
      "4   pulled movie early much surprise hadnt intende...  \n",
      "5   prey interesting history unless remember ads n...  \n",
      "6   criticisms movie quite valid pretty boring fil...  \n",
      "7   walked book store brentwood tennessee going sa...  \n",
      "8   thank god didnt buy movie borrowed friend boug...  \n",
      "9   saw movie girlfriend total disaster really see...  \n",
      "10  anyone tells picture terrific probably somethi...  \n",
      "11  kidding quite possibly worst amateur movie ive...  \n",
      "12  addition fact abysmally made film imagine givi...  \n",
      "13  wanted like movie really really excited saw pr...  \n",
      "14  understanding people praising movie didnt like...  \n",
      "15  tale upperclasses getting comeuppance wallowin...  \n",
      "16  filmmaker stayed true accurate account story p...  \n",
      "17  able see preview movie uclas prescreening prog...  \n",
      "18  saw ds new film tonight special advance screen...  \n",
      "19  saw movie flukei standing 42nd street waiting ...  \n",
      "20  wonder favorite film important film relationsh...  \n",
      "21  saw closing film austin film festival going se...  \n",
      "22  love film mixes edgeoftheseat suspense laughs ...  \n",
      "23  heist movies one indeed likes rififi obvious i...  \n",
      "24  30 years hiatus immerse mist uplifting melanch...  \n",
      "25  mevilles caper film good famous movie deliciou...  \n",
      "26  men guilty says chief police theyre born innoc...  \n",
      "27  jeanpierre melvilles le cercle rouge follows l...  \n"
     ]
    },
    {
     "name": "stderr",
     "output_type": "stream",
     "text": [
      "<ipython-input-5-32f6fa83488b>:9: FutureWarning: The default value of regex will change from True to False in a future version.\n",
      "  df[\"Gecleand\"] = df['input'].str.replace('[^\\w\\s]','')\n"
     ]
    }
   ],
   "source": [
    "\n",
    "#https://griddb.net/en/blog/movie-review-classification-using-nlp-griddb-and-python/\n",
    "\n",
    "df = pd.read_json(\"C:\\\\Users\\\\shirl\\\\Desktop\\\\MovieReactionDS_small.json\")\n",
    "\n",
    "#CONTROLEREN OP NULL WAARDES\n",
    "df.isna().sum()\n",
    "\n",
    "#LEESTEKENS \n",
    "df[\"Gecleand\"] = df['input'].str.replace('[^\\w\\s]','')\n",
    "\n",
    "#print(df)\n",
    "\n",
    "#De kolom `Gecleand` alles in kleine letters zetten\n",
    "df['Gecleand'] = df['Gecleand'].str.lower()\n",
    "#print(df)\n",
    "\n",
    "#stopwoorden eruit halen\n",
    "stop = stopwords.words('english')\n",
    "df['Gecleand'] = df['Gecleand'].apply(lambda x: ' '.join([word for word in x.split() if word not in (stop)]))\n",
    "print(df)\n",
    "\n",
    "#Positive eruit halen\n",
    "positive = df[df['output']== 'positive']\n",
    "#print(positive)"
   ]
  },
  {
   "cell_type": "code",
   "execution_count": null,
   "id": "e5d73d99",
   "metadata": {},
   "outputs": [],
   "source": [
    "\n"
   ]
  },
  {
   "cell_type": "code",
   "execution_count": null,
   "id": "01b9b59a",
   "metadata": {},
   "outputs": [],
   "source": []
  }
 ],
 "metadata": {
  "kernelspec": {
   "display_name": "Python 3",
   "language": "python",
   "name": "python3"
  },
  "language_info": {
   "codemirror_mode": {
    "name": "ipython",
    "version": 3
   },
   "file_extension": ".py",
   "mimetype": "text/x-python",
   "name": "python",
   "nbconvert_exporter": "python",
   "pygments_lexer": "ipython3",
   "version": "3.8.8"
  }
 },
 "nbformat": 4,
 "nbformat_minor": 5
}
