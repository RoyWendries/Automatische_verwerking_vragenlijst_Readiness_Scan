{
 "cells": [
  {
   "cell_type": "markdown",
   "id": "52d25461",
   "metadata": {},
   "source": [
    "# Vector Space Model"
   ]
  },
  {
   "cell_type": "code",
   "execution_count": 4,
   "id": "24996fb6",
   "metadata": {
    "collapsed": true
   },
   "outputs": [],
   "source": [
    "from pandas_datareader import wb\n",
    "import numpy as np\n",
    "import pandas as pd\n",
    "pd.options.display.width = 0"
   ]
  },
  {
   "cell_type": "markdown",
   "id": "752f0eee",
   "metadata": {},
   "source": [
    "Download Data from World Bank"
   ]
  },
  {
   "cell_type": "code",
   "execution_count": 9,
   "id": "810e059e",
   "metadata": {},
   "outputs": [],
   "source": [
    "names = [\n",
    "    \"NE.EXP.GNFS.CD\", # Exports of goods and services (current US$)\n",
    "    \"NE.IMP.GNFS.CD\", # Imports of goods and services (current US$)\n",
    "    \"NV.AGR.TOTL.CD\", # Agriculture, forestry, and fishing, value added (current US$)\n",
    "    \"NY.GDP.MKTP.CD\", # GDP (current US$)\n",
    "    \"NE.RSB.GNFS.CD\", # External balance on goods and services (current US$)\n",
    "]\n",
    "df = wb.download(country=\"all\", indicator=names, start=2010, end=2010).reset_index()"
   ]
  },
  {
   "cell_type": "markdown",
   "id": "0e637cdb",
   "metadata": {},
   "source": [
    "Remove aggregates and keep only countries with no missing data"
   ]
  },
  {
   "cell_type": "code",
   "execution_count": 8,
   "id": "51ce1c3c",
   "metadata": {
    "collapsed": true
   },
   "outputs": [],
   "source": [
    "countries = wb.get_countries()\n",
    "non_aggregates = countries[countries[\"region\"] != \"Aggregates\"].name\n",
    "df_nonagg = df[df[\"country\"].isin(non_aggregates)].dropna()"
   ]
  },
  {
   "cell_type": "markdown",
   "id": "69365ea6",
   "metadata": {},
   "source": [
    "Extract Vector for each Country"
   ]
  },
  {
   "cell_type": "code",
   "execution_count": 10,
   "id": "bd166161",
   "metadata": {},
   "outputs": [],
   "source": [
    "vectors = {}\n",
    "for rowid, row in df_nonagg.iterrows():\n",
    "    vectors[row[\"country\"]] = row[names].values"
   ]
  },
  {
   "cell_type": "markdown",
   "id": "6de9d773",
   "metadata": {},
   "source": [
    "Get the Euclidean amd Cosine distances"
   ]
  },
  {
   "cell_type": "code",
   "execution_count": 11,
   "id": "e9e8cdd5",
   "metadata": {},
   "outputs": [],
   "source": [
    "euclid = {}\n",
    "cosine = {}"
   ]
  },
  {
   "cell_type": "code",
   "execution_count": 14,
   "id": "a36d05b0",
   "metadata": {},
   "outputs": [],
   "source": [
    "target = \"Australia\"\n",
    "for country in vectors:\n",
    "    vecA = vectors[target]\n",
    "    vecB = vectors[country]\n",
    "    dist = np.linalg.norm(vecA - vecB)\n",
    "    cos = (vecA @ vecB) / (np.linalg.norm(vecA) * np.linalg.norm(vecB))\n",
    "    euclid[country] = dist    # Euclidean distance\n",
    "    cosine[country] = 1-cos   # cosine distance\n",
    "df_distance = pd.DataFrame({\"euclid\": euclid, \"cos\": cosine})"
   ]
  },
  {
   "cell_type": "markdown",
   "id": "1fdb7e37",
   "metadata": {},
   "source": [
    "Print Results"
   ]
  },
  {
   "cell_type": "code",
   "execution_count": 15,
   "id": "02a8eb14",
   "metadata": {},
   "outputs": [
    {
     "name": "stdout",
     "output_type": "stream",
     "text": [
      "Closest by Euclidean distance:\n",
      "                 euclid           cos\n",
      "Australia  0.000000e+00 -2.220446e-16\n",
      "Mexico     1.545268e+11  8.030430e-03\n",
      "Spain      3.416636e+11  3.105920e-03\n",
      "Turkey     3.812584e+11  3.569451e-03\n",
      "Indonesia  4.095371e+11  7.389964e-03\n",
      "\n",
      "Closest by Cosine distance:\n",
      "                    euclid           cos\n",
      "Australia     0.000000e+00 -2.220446e-16\n",
      "Colombia      8.993897e+11  1.700920e-03\n",
      "South Africa  7.525828e+11  2.284180e-03\n",
      "Cuba          1.127318e+12  2.395475e-03\n",
      "Italy         1.089453e+12  2.734843e-03\n"
     ]
    }
   ],
   "source": [
    "print(\"Closest by Euclidean distance:\")\n",
    "print(df_distance.sort_values(by=\"euclid\").head())\n",
    "print()\n",
    "print(\"Closest by Cosine distance:\")\n",
    "print(df_distance.sort_values(by=\"cos\").head())"
   ]
  },
  {
   "cell_type": "markdown",
   "id": "1c7b7c25",
   "metadata": {},
   "source": [
    "Detail Metrics"
   ]
  },
  {
   "cell_type": "code",
   "execution_count": 16,
   "id": "91e7b4cb",
   "metadata": {},
   "outputs": [
    {
     "name": "stdout",
     "output_type": "stream",
     "text": [
      "\n",
      "Detail metrics:\n",
      "       country  year  NE.EXP.GNFS.CD  NE.IMP.GNFS.CD  NV.AGR.TOTL.CD  \\\n",
      "59   Australia  2010    2.274165e+11    2.380041e+11    2.531842e+10   \n",
      "91    Colombia  2010    4.682683e+10    5.136288e+10    1.812470e+10   \n",
      "176     Mexico  2010    3.141423e+11    3.285812e+11    3.405226e+10   \n",
      "\n",
      "     NY.GDP.MKTP.CD  NE.RSB.GNFS.CD  \n",
      "59     1.147589e+12   -1.058751e+10  \n",
      "91     2.865631e+11   -4.536047e+09  \n",
      "176    1.057801e+12   -1.443887e+10  \n"
     ]
    }
   ],
   "source": [
    "print()\n",
    "print(\"Detail metrics:\")\n",
    "print(df_nonagg[df_nonagg.country.isin([\"Mexico\", \"Colombia\", \"Australia\"])])"
   ]
  },
  {
   "cell_type": "code",
   "execution_count": null,
   "id": "a4e0a9d3",
   "metadata": {},
   "outputs": [],
   "source": []
  },
  {
   "cell_type": "code",
   "execution_count": null,
   "id": "d9eb3723",
   "metadata": {},
   "outputs": [],
   "source": []
  }
 ],
 "metadata": {
  "kernelspec": {
   "display_name": "Python 3 (ipykernel)",
   "language": "python",
   "name": "python3"
  },
  "language_info": {
   "codemirror_mode": {
    "name": "ipython",
    "version": 3
   },
   "file_extension": ".py",
   "mimetype": "text/x-python",
   "name": "python",
   "nbconvert_exporter": "python",
   "pygments_lexer": "ipython3",
   "version": "3.9.7"
  }
 },
 "nbformat": 4,
 "nbformat_minor": 5
}
