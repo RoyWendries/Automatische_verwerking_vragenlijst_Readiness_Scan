{
 "cells": [
  {
   "cell_type": "markdown",
   "metadata": {},
   "source": [
    "# Sentiment Data Test Model Vector Space Model (MEDIUM)"
   ]
  },
  {
   "cell_type": "markdown",
   "metadata": {},
   "source": [
    "## Load Data"
   ]
  },
  {
   "cell_type": "code",
   "execution_count": 2,
   "metadata": {},
   "outputs": [],
   "source": [
    "import numpy as np\n",
    "import pandas as pd"
   ]
  },
  {
   "cell_type": "code",
   "execution_count": 3,
   "metadata": {},
   "outputs": [],
   "source": [
    "import matplotlib.pyplot as plt\n",
    "import seaborn as sns\n",
    "%matplotlib inline"
   ]
  },
  {
   "cell_type": "code",
   "execution_count": 4,
   "metadata": {},
   "outputs": [],
   "source": [
    "moviereaction = pd.read_json('data/MovieReactionDS_medium.json')\n"
   ]
  },
  {
   "cell_type": "code",
   "execution_count": 5,
   "metadata": {},
   "outputs": [
    {
     "name": "stdout",
     "output_type": "stream",
     "text": [
      "<class 'pandas.core.frame.DataFrame'>\n",
      "RangeIndex: 300 entries, 0 to 299\n",
      "Data columns (total 2 columns):\n",
      " #   Column  Non-Null Count  Dtype \n",
      "---  ------  --------------  ----- \n",
      " 0   input   300 non-null    object\n",
      " 1   output  300 non-null    object\n",
      "dtypes: object(2)\n",
      "memory usage: 4.8+ KB\n"
     ]
    }
   ],
   "source": [
    "moviereaction.info()"
   ]
  },
  {
   "cell_type": "code",
   "execution_count": 33,
   "metadata": {},
   "outputs": [],
   "source": [
    "from sklearn.pipeline import Pipeline\n",
    "from sklearn.decomposition import PCA\n",
    "from gensim.models.doc2vec import TaggedDocument, Doc2Vec\n",
    "from sklearn.base import BaseEstimator, TransformerMixin\n",
    "from sklearn.linear_model import LogisticRegression\n",
    "from sklearn.model_selection import train_test_split\n",
    "from sklearn.model_selection import GridSearchCV\n",
    "from gensim.parsing.preprocessing import preprocess_string\n",
    "from sklearn import utils\n",
    "from sklearn.metrics import accuracy_score\n",
    "from sklearn.metrics import confusion_matrix\n",
    "from sklearn.metrics import classification_report\n",
    "from tqdm import tqdm\n",
    "import multiprocessing"
   ]
  },
  {
   "cell_type": "code",
   "execution_count": 7,
   "metadata": {},
   "outputs": [],
   "source": [
    "class Doc2VecTransformer(BaseEstimator): \n",
    "    def __init__(self, vector_size=100, learning_rate=0.02, epochs=20):\n",
    "        self.learning_rate = learning_rate\n",
    "        self.epochs = epochs\n",
    "        self._model = None\n",
    "        self.vector_size = vector_size\n",
    "        self.workers = multiprocessing.cpu_count() \n",
    "\n",
    "    def fit(self, df_x, df_y=None):\n",
    "        tagged_x = [TaggedDocument(preprocess_string(row['input']), [index]) for index, row in df_x.iterrows()]\n",
    "        model = Doc2Vec(documents=tagged_x, vector_size=self.vector_size, workers=self.workers) \n",
    "\n",
    "        for epoch in range(self.epochs):\n",
    "            model.train(utils.shuffle([x for x in tqdm(tagged_x)]), \n",
    "        total_examples=len(tagged_x), epochs=1)\n",
    "        model.alpha -= self.learning_rate\n",
    "        model.min_alpha = model.alpha \n",
    "\n",
    "        self._model = model\n",
    "        return self \n",
    "    \n",
    "    def transform(self, df_x):\n",
    "        return np.asmatrix(np.array([self._model.infer_vector(preprocess_string(row['input'])) for index, row in df_x.iterrows()]))"
   ]
  },
  {
   "cell_type": "code",
   "execution_count": 25,
   "metadata": {},
   "outputs": [],
   "source": [
    "def train_and_build_model():\n",
    "    all_reviews_df = moviereaction\n",
    "    train_x_df, test_x_df, train_y_df, test_y_df = train_test_split(all_reviews_df[['input']], all_reviews_df[['output']])\n",
    "\n",
    "    pl = Pipeline(steps=[('doc2vec', Doc2VecTransformer(vector_size=220)),('pca', PCA(n_components=100)),('logistic', LogisticRegression())])\n",
    "    pl.fit(train_x_df[['input']], train_y_df[['output']].values.ravel())\n",
    "    predictions_y = pl.predict(test_x_df[['input']])\n",
    "    print('Accuracy: ', accuracy_score(y_true=test_y_df[['output']], y_pred=predictions_y))\n",
    "    print('\\n')\n",
    "    print('Confusion Matrix:', '\\n',confusion_matrix(y_true=test_y_df[['output']], y_pred=predictions_y))\n",
    "    print('Classification Report:', '\\n',classification_report(y_true=test_y_df[['output']], y_pred=predictions_y)) "
   ]
  },
  {
   "cell_type": "code",
   "execution_count": 30,
   "metadata": {},
   "outputs": [],
   "source": [
    "def train_short_range_grid_search():\n",
    "    all_reviews_df = moviereaction\n",
    "    train_x_df, test_x_df, train_y_df, test_y_df = train_test_split(all_reviews_df[['input']], all_reviews_df[['output']])\n",
    "\n",
    "    pl = Pipeline(steps=[('doc2vec', Doc2VecTransformer()), ('pca', PCA()), ('logistic', LogisticRegression())])\n",
    "\n",
    "    param_grid = {\n",
    "    'doc2vec__vector_size': [200, 220, 250],\n",
    "    'pca__n_components': [50, 75, 100]\n",
    "    }\n",
    "    gs_cv = GridSearchCV(estimator=pl, param_grid=param_grid, cv=3, n_jobs=-1,\n",
    "    scoring=\"accuracy\")\n",
    "    gs_cv.fit(train_x_df[['input']], train_y_df[['output']])\n",
    "\n",
    "    print(\"Best parameter (CV score=%0.3f):\" % gs_cv.best_score_)\n",
    "    print(gs_cv.best_params_)\n",
    "    predictions_y = gs_cv.predict(test_x_df[['input']])\n",
    "    print('Accuracy: ', accuracy_score(y_true=test_y_df[['output']], y_pred=predictions_y))\n",
    "    print('\\n')\n",
    "    print('Confusion Matrix:', '\\n',confusion_matrix(y_true=test_y_df[['output']], y_pred=predictions_y))\n",
    "    print('Classification Report:', '\\n',classification_report(y_true=test_y_df[['output']], y_pred=predictions_y))"
   ]
  },
  {
   "cell_type": "code",
   "execution_count": 26,
   "metadata": {},
   "outputs": [],
   "source": [
    "def train_long_range_grid_search():\n",
    "    all_reviews_df = moviereaction\n",
    "    train_x_df, test_x_df, train_y_df, test_y_df = train_test_split(all_reviews_df[['input']], all_reviews_df[['output']]) \n",
    "    \n",
    "    pl = Pipeline(steps=[('doc2vec', Doc2VecTransformer()),('pca', PCA()),('logistic', LogisticRegression())]) \n",
    "    \n",
    "    param_grid = {\n",
    "    'doc2vec__vector_size': [x for x in range(100, 250)],\n",
    "    'pca__n_components': [x for x in range(1, 50)]\n",
    "    }\n",
    "    gs_cv = GridSearchCV(estimator=pl, param_grid=param_grid, cv=5, n_jobs=-1,\n",
    "    scoring=\"accuracy\")\n",
    "    gs_cv.fit(train_x_df[['input']], train_y_df[['output']]) \n",
    "    \n",
    "    print(\"Best parameter (CV score=%0.3f):\" % gs_cv.best_score_)\n",
    "    print(gs_cv.best_params_)\n",
    "    predictions_y = gs_cv.predict(test_x_df[['input']])\n",
    "    print('Accuracy: ', accuracy_score(y_true=test_y_df[['output']], y_pred=predictions_y))\n",
    "    print('\\n')\n",
    "    print('Confusion Matrix:', '\\n',confusion_matrix(y_true=test_y_df[['output']], y_pred=predictions_y))\n",
    "    print('Classification Report:', '\\n',classification_report(y_true=test_y_df[['output']], y_pred=predictions_y))"
   ]
  },
  {
   "cell_type": "code",
   "execution_count": 31,
   "metadata": {},
   "outputs": [
    {
     "name": "stderr",
     "output_type": "stream",
     "text": [
      "100%|██████████| 225/225 [00:00<?, ?it/s]\n",
      "100%|██████████| 225/225 [00:00<?, ?it/s]\n",
      "100%|██████████| 225/225 [00:00<?, ?it/s]\n",
      "100%|██████████| 225/225 [00:00<?, ?it/s]\n",
      "100%|██████████| 225/225 [00:00<?, ?it/s]\n",
      "100%|██████████| 225/225 [00:00<?, ?it/s]\n",
      "100%|██████████| 225/225 [00:00<?, ?it/s]\n",
      "100%|██████████| 225/225 [00:00<?, ?it/s]\n",
      "100%|██████████| 225/225 [00:00<?, ?it/s]\n",
      "100%|██████████| 225/225 [00:00<?, ?it/s]\n",
      "100%|██████████| 225/225 [00:00<?, ?it/s]\n",
      "100%|██████████| 225/225 [00:00<00:00, 224801.91it/s]\n",
      "100%|██████████| 225/225 [00:00<?, ?it/s]\n",
      "100%|██████████| 225/225 [00:00<?, ?it/s]\n",
      "100%|██████████| 225/225 [00:00<?, ?it/s]\n",
      "100%|██████████| 225/225 [00:00<00:00, 224962.67it/s]\n",
      "100%|██████████| 225/225 [00:00<00:00, 225016.31it/s]\n",
      "100%|██████████| 225/225 [00:00<?, ?it/s]\n",
      "100%|██████████| 225/225 [00:00<?, ?it/s]\n",
      "100%|██████████| 225/225 [00:00<?, ?it/s]\n"
     ]
    },
    {
     "name": "stdout",
     "output_type": "stream",
     "text": [
      "Accuracy:  0.49333333333333335\n",
      "\n",
      "\n",
      "Confusion Matrix: \n",
      " [[34  0]\n",
      " [38  3]]\n",
      "Classification Report: \n",
      "               precision    recall  f1-score   support\n",
      "\n",
      "    negative       0.47      1.00      0.64        34\n",
      "    positive       1.00      0.07      0.14        41\n",
      "\n",
      "    accuracy                           0.49        75\n",
      "   macro avg       0.74      0.54      0.39        75\n",
      "weighted avg       0.76      0.49      0.37        75\n",
      "\n"
     ]
    }
   ],
   "source": [
    "train_and_build_model()"
   ]
  },
  {
   "cell_type": "code",
   "execution_count": 32,
   "metadata": {},
   "outputs": [
    {
     "name": "stderr",
     "output_type": "stream",
     "text": [
      "100%|██████████| 225/225 [00:00<?, ?it/s]\n",
      "100%|██████████| 225/225 [00:00<?, ?it/s]\n",
      "100%|██████████| 225/225 [00:00<00:00, 224481.07it/s]\n",
      "100%|██████████| 225/225 [00:00<?, ?it/s]\n",
      "100%|██████████| 225/225 [00:00<?, ?it/s]\n",
      "100%|██████████| 225/225 [00:00<?, ?it/s]\n",
      "100%|██████████| 225/225 [00:00<?, ?it/s]\n",
      "100%|██████████| 225/225 [00:00<?, ?it/s]\n",
      "100%|██████████| 225/225 [00:00<?, ?it/s]\n",
      "100%|██████████| 225/225 [00:00<?, ?it/s]\n",
      "100%|██████████| 225/225 [00:00<?, ?it/s]\n",
      "100%|██████████| 225/225 [00:00<?, ?it/s]\n",
      "100%|██████████| 225/225 [00:00<?, ?it/s]\n",
      "100%|██████████| 225/225 [00:00<?, ?it/s]\n",
      "100%|██████████| 225/225 [00:00<00:00, 224694.86it/s]\n",
      "100%|██████████| 225/225 [00:00<00:00, 224801.91it/s]\n",
      "100%|██████████| 225/225 [00:00<00:00, 224534.48it/s]\n",
      "100%|██████████| 225/225 [00:00<?, ?it/s]\n",
      "100%|██████████| 225/225 [00:00<?, ?it/s]\n",
      "100%|██████████| 225/225 [00:00<?, ?it/s]\n"
     ]
    },
    {
     "name": "stdout",
     "output_type": "stream",
     "text": [
      "Best parameter (CV score=0.516):\n",
      "{'doc2vec__vector_size': 250, 'pca__n_components': 100}\n",
      "Accuracy:  0.4533333333333333\n",
      "\n",
      "\n",
      "Confusion Matrix: \n",
      " [[ 0 40]\n",
      " [ 1 34]]\n",
      "Classification Report: \n",
      "               precision    recall  f1-score   support\n",
      "\n",
      "    negative       0.00      0.00      0.00        40\n",
      "    positive       0.46      0.97      0.62        35\n",
      "\n",
      "    accuracy                           0.45        75\n",
      "   macro avg       0.23      0.49      0.31        75\n",
      "weighted avg       0.21      0.45      0.29        75\n",
      "\n"
     ]
    },
    {
     "name": "stderr",
     "output_type": "stream",
     "text": [
      "c:\\Users\\Romando\\anaconda3\\lib\\site-packages\\sklearn\\utils\\validation.py:63: DataConversionWarning: A column-vector y was passed when a 1d array was expected. Please change the shape of y to (n_samples, ), for example using ravel().\n",
      "  return f(*args, **kwargs)\n"
     ]
    }
   ],
   "source": [
    "train_short_range_grid_search()"
   ]
  },
  {
   "cell_type": "code",
   "execution_count": 14,
   "metadata": {},
   "outputs": [],
   "source": [
    "# train_long_range_grid_search()"
   ]
  }
 ],
 "metadata": {
  "kernelspec": {
   "display_name": "Python 3.9.7 ('base')",
   "language": "python",
   "name": "python3"
  },
  "language_info": {
   "codemirror_mode": {
    "name": "ipython",
    "version": 3
   },
   "file_extension": ".py",
   "mimetype": "text/x-python",
   "name": "python",
   "nbconvert_exporter": "python",
   "pygments_lexer": "ipython3",
   "version": "3.9.7"
  },
  "orig_nbformat": 4,
  "vscode": {
   "interpreter": {
    "hash": "9e465f6e30746061d3891fec3e157ba0a0af9b27ad4ca37c81c89049ca04b91d"
   }
  }
 },
 "nbformat": 4,
 "nbformat_minor": 2
}
