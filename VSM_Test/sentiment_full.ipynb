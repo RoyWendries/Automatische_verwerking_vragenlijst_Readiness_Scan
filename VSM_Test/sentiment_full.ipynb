{
 "cells": [
  {
   "cell_type": "markdown",
   "metadata": {},
   "source": [
    "# Sentiment Data Test Model Vector Space Model (Full)"
   ]
  },
  {
   "cell_type": "markdown",
   "metadata": {},
   "source": [
    "## Load Data"
   ]
  },
  {
   "cell_type": "code",
   "execution_count": 2,
   "metadata": {},
   "outputs": [],
   "source": [
    "import numpy as np\n",
    "import pandas as pd"
   ]
  },
  {
   "cell_type": "code",
   "execution_count": 3,
   "metadata": {},
   "outputs": [],
   "source": [
    "import matplotlib.pyplot as plt\n",
    "import seaborn as sns\n",
    "%matplotlib inline"
   ]
  },
  {
   "cell_type": "code",
   "execution_count": 4,
   "metadata": {},
   "outputs": [],
   "source": [
    "moviereaction = pd.read_json('data/MovieReactionDS.json')"
   ]
  },
  {
   "cell_type": "code",
   "execution_count": 5,
   "metadata": {},
   "outputs": [],
   "source": [
    "from sklearn.pipeline import Pipeline\n",
    "from sklearn.decomposition import PCA\n",
    "from gensim.models.doc2vec import TaggedDocument, Doc2Vec\n",
    "from sklearn.base import BaseEstimator, TransformerMixin\n",
    "from sklearn.linear_model import LogisticRegression\n",
    "from sklearn.model_selection import train_test_split\n",
    "from sklearn.model_selection import GridSearchCV\n",
    "from gensim.parsing.preprocessing import preprocess_string\n",
    "from sklearn import utils\n",
    "from sklearn.metrics import accuracy_score\n",
    "from sklearn.metrics import confusion_matrix\n",
    "from sklearn.metrics import classification_report\n",
    "from tqdm import tqdm\n",
    "import multiprocessing"
   ]
  },
  {
   "cell_type": "code",
   "execution_count": 6,
   "metadata": {},
   "outputs": [],
   "source": [
    "class Doc2VecTransformer(BaseEstimator): \n",
    "    def __init__(self, vector_size=100, learning_rate=0.02, epochs=20):\n",
    "        self.learning_rate = learning_rate\n",
    "        self.epochs = epochs\n",
    "        self._model = None\n",
    "        self.vector_size = vector_size\n",
    "        self.workers = multiprocessing.cpu_count() \n",
    "\n",
    "    def fit(self, df_x, df_y=None):\n",
    "        tagged_x = [TaggedDocument(preprocess_string(row['input']), [index]) for index, row in df_x.iterrows()]\n",
    "        model = Doc2Vec(documents=tagged_x, vector_size=self.vector_size, workers=self.workers) \n",
    "\n",
    "        for epoch in range(self.epochs):\n",
    "            model.train(utils.shuffle([x for x in tqdm(tagged_x)]), \n",
    "        total_examples=len(tagged_x), epochs=1)\n",
    "        model.alpha -= self.learning_rate\n",
    "        model.min_alpha = model.alpha \n",
    "\n",
    "        self._model = model\n",
    "        return self \n",
    "    \n",
    "    def transform(self, df_x):\n",
    "        return np.asmatrix(np.array([self._model.infer_vector(preprocess_string(row['input'])) for index, row in df_x.iterrows()]))"
   ]
  },
  {
   "cell_type": "code",
   "execution_count": 7,
   "metadata": {},
   "outputs": [],
   "source": [
    "def train_and_build_model():\n",
    "    all_reviews_df = moviereaction\n",
    "    train_x_df, test_x_df, train_y_df, test_y_df = train_test_split(all_reviews_df[['input']], all_reviews_df[['output']])\n",
    "\n",
    "    pl = Pipeline(steps=[('doc2vec', Doc2VecTransformer(vector_size=220)),('pca', PCA(n_components=100)),('logistic', LogisticRegression())])\n",
    "    pl.fit(train_x_df[['input']], train_y_df[['output']])\n",
    "    predictions_y = pl.predict(test_x_df[['input']])\n",
    "    print('Accuracy: ', accuracy_score(y_true=test_y_df[['output']], y_pred=predictions_y))\n",
    "    print('\\n')\n",
    "    print('Confusion Matrix:', '\\n',confusion_matrix(y_true=test_y_df[['output']], y_pred=predictions_y))\n",
    "    print('Classification Report:', '\\n',classification_report(y_true=test_y_df[['output']], y_pred=predictions_y)) "
   ]
  },
  {
   "cell_type": "code",
   "execution_count": 8,
   "metadata": {},
   "outputs": [],
   "source": [
    "def train_short_range_grid_search():\n",
    "    all_reviews_df = moviereaction\n",
    "    train_x_df, test_x_df, train_y_df, test_y_df = train_test_split(all_reviews_df[['input']], all_reviews_df[['output']])\n",
    "\n",
    "    pl = Pipeline(steps=[('doc2vec', Doc2VecTransformer()),\n",
    "    ('pca', PCA()),\n",
    "    ('logistic', LogisticRegression())])\n",
    "\n",
    "    param_grid = {\n",
    "    'doc2vec__vector_size': [200, 220, 250],\n",
    "    'pca__n_components': [50, 75, 100]\n",
    "    }\n",
    "    gs_cv = GridSearchCV(estimator=pl, param_grid=param_grid, cv=3, n_jobs=-1,\n",
    "    scoring=\"accuracy\")\n",
    "    gs_cv.fit(train_x_df[['input']], train_y_df[['output']])\n",
    "\n",
    "    print(\"Best parameter (CV score=%0.3f):\" % gs_cv.best_score_)\n",
    "    print(gs_cv.best_params_)\n",
    "    predictions_y = gs_cv.predict(test_x_df[['input']])\n",
    "    print('Accuracy: ', accuracy_score(y_true=test_y_df[['output']], y_pred=predictions_y))\n",
    "    print('\\n')\n",
    "    print('Confusion Matrix:', '\\n',confusion_matrix(y_true=test_y_df[['output']], y_pred=predictions_y))\n",
    "    print('Classification Report:', '\\n',classification_report(y_true=test_y_df[['output']], y_pred=predictions_y)) "
   ]
  },
  {
   "cell_type": "code",
   "execution_count": 9,
   "metadata": {},
   "outputs": [],
   "source": [
    "def train_long_range_grid_search():\n",
    "    all_reviews_df = moviereaction\n",
    "    train_x_df, test_x_df, train_y_df, test_y_df = train_test_split(all_reviews_df[['input']], all_reviews_df[['output']]) \n",
    "    \n",
    "    pl = Pipeline(steps=[('doc2vec', Doc2VecTransformer()),('pca', PCA()),('logistic', LogisticRegression())]) \n",
    "    \n",
    "    param_grid = {\n",
    "    'doc2vec__vector_size': [x for x in range(100, 250)],\n",
    "    'pca__n_components': [x for x in range(1, 50)]\n",
    "    }\n",
    "    gs_cv = GridSearchCV(estimator=pl, param_grid=param_grid, cv=5, n_jobs=-1,\n",
    "    scoring=\"accuracy\")\n",
    "    gs_cv.fit(train_x_df[['input']], train_y_df[['output']]) \n",
    "    \n",
    "    print(\"Best parameter (CV score=%0.3f):\" % gs_cv.best_score_)\n",
    "    print(gs_cv.best_params_)\n",
    "    predictions_y = gs_cv.predict(test_x_df[['input']])\n",
    "    print('Accuracy: ', accuracy_score(y_true=test_y_df[['output']], y_pred=predictions_y))\n",
    "    print('\\n')\n",
    "    print('Confusion Matrix:', '\\n',confusion_matrix(y_true=test_y_df[['output']], y_pred=predictions_y))\n",
    "    print('Classification Report:', '\\n',classification_report(y_true=test_y_df[['output']], y_pred=predictions_y))"
   ]
  },
  {
   "cell_type": "code",
   "execution_count": 10,
   "metadata": {},
   "outputs": [
    {
     "name": "stderr",
     "output_type": "stream",
     "text": [
      "100%|██████████| 18750/18750 [00:00<00:00, 6243010.24it/s]\n",
      "100%|██████████| 18750/18750 [00:00<00:00, 4683373.03it/s]\n",
      "100%|██████████| 18750/18750 [00:00<00:00, 6244497.38it/s]\n",
      "100%|██████████| 18750/18750 [00:00<00:00, 6244497.38it/s]\n",
      "100%|██████████| 18750/18750 [00:00<00:00, 6242514.68it/s]\n",
      "100%|██████████| 18750/18750 [00:00<00:00, 6243505.87it/s]\n",
      "100%|██████████| 18750/18750 [00:00<00:00, 6243505.87it/s]\n",
      "100%|██████████| 18750/18750 [00:00<00:00, 6244001.59it/s]\n",
      "100%|██████████| 18750/18750 [00:00<00:00, 4683373.03it/s]\n",
      "100%|██████████| 18750/18750 [00:00<00:00, 6244497.38it/s]\n",
      "100%|██████████| 18750/18750 [00:00<00:00, 6245489.20it/s]\n",
      "100%|██████████| 18750/18750 [00:00<00:00, 4683651.96it/s]\n",
      "100%|██████████| 18750/18750 [00:00<00:00, 6245489.20it/s]\n",
      "100%|██████████| 18750/18750 [00:00<00:00, 6243505.87it/s]\n",
      "100%|██████████| 18750/18750 [00:00<00:00, 6244993.25it/s]\n",
      "100%|██████████| 18750/18750 [00:00<00:00, 6242514.68it/s]\n",
      "100%|██████████| 18750/18750 [00:00<00:00, 6244001.59it/s]\n",
      "100%|██████████| 18750/18750 [00:00<00:00, 4682536.47it/s]\n",
      "100%|██████████| 18750/18750 [00:00<00:00, 6243010.24it/s]\n",
      "100%|██████████| 18750/18750 [00:00<00:00, 6244497.38it/s]\n",
      "c:\\Users\\Romando\\anaconda3\\lib\\site-packages\\sklearn\\utils\\validation.py:63: DataConversionWarning: A column-vector y was passed when a 1d array was expected. Please change the shape of y to (n_samples, ), for example using ravel().\n",
      "  return f(*args, **kwargs)\n"
     ]
    },
    {
     "name": "stdout",
     "output_type": "stream",
     "text": [
      "Accuracy:  0.71712\n",
      "\n",
      "\n",
      "Confusion Matrix: \n",
      " [[2548  552]\n",
      " [1216 1934]]\n",
      "Classification Report: \n",
      "               precision    recall  f1-score   support\n",
      "\n",
      "    negative       0.68      0.82      0.74      3100\n",
      "    positive       0.78      0.61      0.69      3150\n",
      "\n",
      "    accuracy                           0.72      6250\n",
      "   macro avg       0.73      0.72      0.71      6250\n",
      "weighted avg       0.73      0.72      0.71      6250\n",
      "\n"
     ]
    }
   ],
   "source": [
    "train_and_build_model()"
   ]
  },
  {
   "cell_type": "code",
   "execution_count": 11,
   "metadata": {},
   "outputs": [
    {
     "name": "stderr",
     "output_type": "stream",
     "text": [
      "100%|██████████| 18750/18750 [00:00<00:00, 4682815.29it/s]\n",
      "100%|██████████| 18750/18750 [00:00<00:00, 4683094.15it/s]\n",
      "100%|██████████| 18750/18750 [00:00<00:00, 6245985.23it/s]\n",
      "100%|██████████| 18750/18750 [00:00<00:00, 6244497.38it/s]\n",
      "100%|██████████| 18750/18750 [00:00<00:00, 4683373.03it/s]\n",
      "100%|██████████| 18750/18750 [00:00<00:00, 6244001.59it/s]\n",
      "100%|██████████| 18750/18750 [00:00<00:00, 6244497.38it/s]\n",
      "100%|██████████| 18750/18750 [00:00<00:00, 6243010.24it/s]\n",
      "100%|██████████| 18750/18750 [00:00<00:00, 6246481.33it/s]\n",
      "100%|██████████| 18750/18750 [00:00<00:00, 4684209.90it/s]\n",
      "100%|██████████| 18750/18750 [00:00<00:00, 6243505.87it/s]\n",
      "100%|██████████| 18750/18750 [00:00<00:00, 6244001.59it/s]\n",
      "100%|██████████| 18750/18750 [00:00<00:00, 6244001.59it/s]\n",
      "100%|██████████| 18750/18750 [00:00<00:00, 6243505.87it/s]\n",
      "100%|██████████| 18750/18750 [00:00<00:00, 4683373.03it/s]\n",
      "100%|██████████| 18750/18750 [00:00<00:00, 6244001.59it/s]\n",
      "100%|██████████| 18750/18750 [00:00<00:00, 6244993.25it/s]\n",
      "100%|██████████| 18750/18750 [00:00<00:00, 6244001.59it/s]\n",
      "100%|██████████| 18750/18750 [00:00<00:00, 6244497.38it/s]\n",
      "100%|██████████| 18750/18750 [00:00<00:00, 6243010.24it/s]\n",
      "c:\\Users\\Romando\\anaconda3\\lib\\site-packages\\sklearn\\utils\\validation.py:63: DataConversionWarning: A column-vector y was passed when a 1d array was expected. Please change the shape of y to (n_samples, ), for example using ravel().\n",
      "  return f(*args, **kwargs)\n"
     ]
    },
    {
     "name": "stdout",
     "output_type": "stream",
     "text": [
      "Best parameter (CV score=0.725):\n",
      "{'doc2vec__vector_size': 200, 'pca__n_components': 75}\n",
      "Accuracy:  0.7232\n",
      "\n",
      "\n",
      "Confusion Matrix: \n",
      " [[2559  587]\n",
      " [1143 1961]]\n",
      "Classification Report: \n",
      "               precision    recall  f1-score   support\n",
      "\n",
      "    negative       0.69      0.81      0.75      3146\n",
      "    positive       0.77      0.63      0.69      3104\n",
      "\n",
      "    accuracy                           0.72      6250\n",
      "   macro avg       0.73      0.72      0.72      6250\n",
      "weighted avg       0.73      0.72      0.72      6250\n",
      "\n"
     ]
    }
   ],
   "source": [
    "train_short_range_grid_search()"
   ]
  },
  {
   "cell_type": "code",
   "execution_count": 12,
   "metadata": {},
   "outputs": [],
   "source": [
    "# train_long_range_grid_search()"
   ]
  }
 ],
 "metadata": {
  "interpreter": {
   "hash": "9e465f6e30746061d3891fec3e157ba0a0af9b27ad4ca37c81c89049ca04b91d"
  },
  "kernelspec": {
   "display_name": "Python 3.9.7 ('base')",
   "language": "python",
   "name": "python3"
  },
  "language_info": {
   "codemirror_mode": {
    "name": "ipython",
    "version": 3
   },
   "file_extension": ".py",
   "mimetype": "text/x-python",
   "name": "python",
   "nbconvert_exporter": "python",
   "pygments_lexer": "ipython3",
   "version": "3.9.7"
  },
  "orig_nbformat": 4,
  "vscode": {
   "interpreter": {
    "hash": "9e465f6e30746061d3891fec3e157ba0a0af9b27ad4ca37c81c89049ca04b91d"
   }
  }
 },
 "nbformat": 4,
 "nbformat_minor": 2
}
